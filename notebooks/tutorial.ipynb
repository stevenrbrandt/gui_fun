{
 "cells": [
  {
   "cell_type": "code",
   "execution_count": 1,
   "metadata": {},
   "outputs": [
    {
     "data": {
      "application/vnd.jupyter.widget-view+json": {
       "model_id": "2d76e6689f3c4010a255eb1684d60a9b",
       "version_major": 2,
       "version_minor": 0
      },
      "text/plain": [
       "HTML(value='\\n<style>\\n.gui_label_style {\\n    background: black;\\n    color: white;\\n    font-weight: bold;\\n…"
      ]
     },
     "metadata": {},
     "output_type": "display_data"
    }
   ],
   "source": [
    "from gui_fun import gui_fun, settings"
   ]
  },
  {
   "cell_type": "markdown",
   "metadata": {},
   "source": [
    "In this example, we start with a function called add that adds two integers together."
   ]
  },
  {
   "cell_type": "code",
   "execution_count": 2,
   "metadata": {},
   "outputs": [],
   "source": [
    "def add(a : int,b : int):\n",
    "    return a+b"
   ]
  },
  {
   "cell_type": "markdown",
   "metadata": {},
   "source": [
    "In this next cell, the gui_fun package will\n",
    "find the argument names and types for \"add\" (if they are supplied) and construct a gui based on the information. The user can fill in the fields and click \"Run\" to execute the function."
   ]
  },
  {
   "cell_type": "code",
   "execution_count": 7,
   "metadata": {},
   "outputs": [
    {
     "data": {
      "application/vnd.jupyter.widget-view+json": {
       "model_id": "0b6033572467426483385d9137092c89",
       "version_major": 2,
       "version_minor": 0
      },
      "text/plain": [
       "HBox(children=(VBox(children=(Label(value=''), Label(value='a', _dom_classes=('off_label_style_1',)), Label(va…"
      ]
     },
     "metadata": {},
     "output_type": "display_data"
    }
   ],
   "source": [
    "r = gui_fun(add)"
   ]
  },
  {
   "cell_type": "markdown",
   "metadata": {},
   "source": [
    "The return value of gui_fun is something called a \"ResultStream.\" After each invocation of \"add\" by \"gui_fun\" another result can be added to the stream. We can get these values by calling pop_result()."
   ]
  },
  {
   "cell_type": "code",
   "execution_count": 8,
   "metadata": {},
   "outputs": [
    {
     "data": {
      "text/plain": [
       "6"
      ]
     },
     "execution_count": 8,
     "metadata": {},
     "output_type": "execute_result"
    }
   ],
   "source": [
    "r.pop_result()"
   ]
  },
  {
   "cell_type": "code",
   "execution_count": 14,
   "metadata": {},
   "outputs": [],
   "source": [
    "def foo(li,index:int=4):\n",
    "    print(\"the list is:\",li)\n",
    "    print(\"value at index\",index,\"is\",li[index])"
   ]
  },
  {
   "cell_type": "markdown",
   "metadata": {},
   "source": [
    "If your function has defaults, gui_fun will try to use them. In this case, it gets the default\n",
    "value of 4 from the definition of \"foo\" above."
   ]
  },
  {
   "cell_type": "code",
   "execution_count": 15,
   "metadata": {},
   "outputs": [
    {
     "data": {
      "application/vnd.jupyter.widget-view+json": {
       "model_id": "3338120ab0424bbf926870868ef5d552",
       "version_major": 2,
       "version_minor": 0
      },
      "text/plain": [
       "HBox(children=(VBox(children=(Label(value=''), Label(value='li', _dom_classes=('off_label_style_1',)), Label(v…"
      ]
     },
     "metadata": {},
     "output_type": "display_data"
    },
    {
     "name": "stdout",
     "output_type": "stream",
     "text": [
      "the list is: [1, 2, 3, 4, 5]\n",
      "value at index 4 is 5\n"
     ]
    }
   ],
   "source": [
    "r = gui_fun(foo)"
   ]
  },
  {
   "cell_type": "markdown",
   "metadata": {},
   "source": [
    "By default, gui_fun interprets all arguments that lack type annotation as strings. Note that gui_fun correctly interpreted the first argument as a list. By default, gui_fun will\n",
    "assume that any input beginning with a square bracket, parenthesis, or double quote should be passed to eval()."
   ]
  },
  {
   "cell_type": "markdown",
   "metadata": {},
   "source": [
    "By default, every time you click \"Run\" and the function call does not throw an exception, gui_fun will save the argument values you used. In the future, it will re-use them as default values. This is convenient if you frequently call a function with only small changes. Optionally, you can supply a \"tag\" argument to gui_fun. When the tag is present, any saved default values will be unique to that tag.\n",
    "\n",
    "What if you don't want to make use of saved defaults? Just supply a tag with a value \"defaults.\""
   ]
  },
  {
   "cell_type": "markdown",
   "metadata": {},
   "source": [
    "Now suppose you wish to use gui_fun for some kind of login function and you don't want the password to display. You can do this with settings."
   ]
  },
  {
   "cell_type": "code",
   "execution_count": 16,
   "metadata": {},
   "outputs": [],
   "source": [
    "def login_func(name, passw):\n",
    "    pass"
   ]
  },
  {
   "cell_type": "code",
   "execution_count": 19,
   "metadata": {},
   "outputs": [],
   "source": [
    "from gui_fun import settings\n",
    "settings(login_func, {\"passw\":\"password\"})"
   ]
  },
  {
   "cell_type": "code",
   "execution_count": 20,
   "metadata": {},
   "outputs": [
    {
     "data": {
      "application/vnd.jupyter.widget-view+json": {
       "model_id": "ce4e944a849b4230b43f6f9c33731d82",
       "version_major": 2,
       "version_minor": 0
      },
      "text/plain": [
       "HBox(children=(VBox(children=(Label(value=''), Label(value='name', _dom_classes=('off_label_style_1',)), Label…"
      ]
     },
     "metadata": {},
     "output_type": "display_data"
    }
   ],
   "source": [
    "r = gui_fun(login_func)"
   ]
  },
  {
   "cell_type": "markdown",
   "metadata": {},
   "source": [
    "Settings can also be useful if you want multi-line input..."
   ]
  },
  {
   "cell_type": "code",
   "execution_count": 23,
   "metadata": {},
   "outputs": [
    {
     "data": {
      "application/vnd.jupyter.widget-view+json": {
       "model_id": "0fc89fd02a7449e4948313260726a941",
       "version_major": 2,
       "version_minor": 0
      },
      "text/plain": [
       "HBox(children=(VBox(children=(Label(value=''), Label(value='name', _dom_classes=('off_label_style_1',)), Label…"
      ]
     },
     "metadata": {},
     "output_type": "display_data"
    }
   ],
   "source": [
    "def save_para(name, para):\n",
    "    pass\n",
    "\n",
    "settings(save_para, {\"para\":\"textarea\"})\n",
    "\n",
    "r = gui_fun(save_para)"
   ]
  },
  {
   "cell_type": "markdown",
   "metadata": {},
   "source": [
    "Finally, you can use settings to create a multiple choice dropdown item instead of a textbox."
   ]
  },
  {
   "cell_type": "code",
   "execution_count": 24,
   "metadata": {},
   "outputs": [],
   "source": [
    "settings(add, {\"a\":[(\"one\",1),(\"two\",2),(\"three\",3)]})"
   ]
  },
  {
   "cell_type": "code",
   "execution_count": 26,
   "metadata": {},
   "outputs": [
    {
     "data": {
      "application/vnd.jupyter.widget-view+json": {
       "model_id": "0ca7036669f343178ec431f7712a5dfc",
       "version_major": 2,
       "version_minor": 0
      },
      "text/plain": [
       "HBox(children=(VBox(children=(Label(value=''), Label(value='a', _dom_classes=('off_label_style_1',)), Label(va…"
      ]
     },
     "metadata": {},
     "output_type": "display_data"
    }
   ],
   "source": [
    "r = gui_fun(add,tag=\"ver2\")"
   ]
  },
  {
   "cell_type": "markdown",
   "metadata": {},
   "source": [
    "If you want an action to take place after every call to your function, add a listener."
   ]
  },
  {
   "cell_type": "code",
   "execution_count": 27,
   "metadata": {},
   "outputs": [
    {
     "data": {
      "application/vnd.jupyter.widget-view+json": {
       "model_id": "719c1f23ed6a4014bd91e82f65bd2b1c",
       "version_major": 2,
       "version_minor": 0
      },
      "text/plain": [
       "HBox(children=(VBox(children=(Label(value=''), Label(value='a', _dom_classes=('off_label_style_1',)), Label(va…"
      ]
     },
     "metadata": {},
     "output_type": "display_data"
    },
    {
     "name": "stdout",
     "output_type": "stream",
     "text": [
      "add output: 6\n",
      "add output: 3\n"
     ]
    }
   ],
   "source": [
    "r = gui_fun(add)\n",
    "r.add_listener(lambda val : print(\"add output:\",val))"
   ]
  },
  {
   "cell_type": "markdown",
   "metadata": {},
   "source": [
    "Thanks for taking a look at gui_fun! :)"
   ]
  },
  {
   "cell_type": "code",
   "execution_count": null,
   "metadata": {},
   "outputs": [],
   "source": []
  }
 ],
 "metadata": {
  "kernelspec": {
   "display_name": "Python 3",
   "language": "python",
   "name": "python3"
  },
  "language_info": {
   "codemirror_mode": {
    "name": "ipython",
    "version": 3
   },
   "file_extension": ".py",
   "mimetype": "text/x-python",
   "name": "python",
   "nbconvert_exporter": "python",
   "pygments_lexer": "ipython3",
   "version": "3.7.7"
  }
 },
 "nbformat": 4,
 "nbformat_minor": 4
}
